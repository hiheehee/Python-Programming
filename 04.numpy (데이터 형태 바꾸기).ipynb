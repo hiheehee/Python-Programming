{
 "cells": [
  {
   "cell_type": "code",
   "execution_count": 1,
   "metadata": {},
   "outputs": [],
   "source": [
    "import numpy as np"
   ]
  },
  {
   "cell_type": "markdown",
   "metadata": {},
   "source": [
    "## ravel, np.ravel\n",
    "* 다차원배열을 1차원으로 변경할 수 있다.\n",
    "* 'order' 파라미터\n",
    "    * 'C' - row 우선 변경\n",
    "    * 'F - column 우선 변경"
   ]
  },
  {
   "cell_type": "code",
   "execution_count": 11,
   "metadata": {
    "scrolled": true
   },
   "outputs": [
    {
     "name": "stdout",
     "output_type": "stream",
     "text": [
      "[[ 0  1  2  3  4]\n",
      " [ 5  6  7  8  9]\n",
      " [10 11 12 13 14]]\n",
      "열 우선 변경 : [ 0  5 10  1  6 11  2  7 12  3  8 13  4  9 14]\n",
      "행 우선 변경 : [ 0  1  2  3  4  5  6  7  8  9 10 11 12 13 14]\n"
     ]
    }
   ],
   "source": [
    "x = np.arange(15).reshape(3, 5)\n",
    "print(x)\n",
    "\n",
    "print('열 우선 변경 :',np.ravel(x, order='F'))\n",
    "print('행 우선 변경 :',np.ravel(x, order='C'))"
   ]
  },
  {
   "cell_type": "code",
   "execution_count": 12,
   "metadata": {},
   "outputs": [
    {
     "name": "stdout",
     "output_type": "stream",
     "text": [
      "[[200   1   2   3   4]\n",
      " [  5   6   7   8   9]\n",
      " [ 10  11  12  13  14]]\n",
      "[200   1   2   3   4   5   6   7   8   9  10  11  12  13  14]\n"
     ]
    }
   ],
   "source": [
    "y = x.ravel()\n",
    "\n",
    "y[0] = 200\n",
    "print(x)\n",
    "print(y)"
   ]
  },
  {
   "cell_type": "markdown",
   "metadata": {},
   "source": [
    "## flatten\n",
    "* 다차원 배열을 1차원으로 변경가능하다.\n",
    "* ravel과는 달리 원본 데이터가 아닌 복사본을 생성하여 변경한다.\n",
    "* 'order' 파라미터\n",
    "    * 'C' - row 우선 변경\n",
    "    * 'F - column 우선 변경"
   ]
  },
  {
   "cell_type": "code",
   "execution_count": 14,
   "metadata": {},
   "outputs": [
    {
     "name": "stdout",
     "output_type": "stream",
     "text": [
      "[[ 0  1  2  3  4]\n",
      " [ 5  6  7  8  9]\n",
      " [10 11 12 13 14]]\n",
      "열 우선 변경 : [ 0  5 10  1  6 11  2  7 12  3  8 13  4  9 14]\n",
      "행 우선 변경 : [ 0  1  2  3  4  5  6  7  8  9 10 11 12 13 14]\n"
     ]
    }
   ],
   "source": [
    "x = np.arange(15).reshape(3, 5)\n",
    "print(x)\n",
    "\n",
    "x1 = x.flatten(order='F')\n",
    "x2 = x.flatten(order='C')\n",
    "\n",
    "print('열 우선 변경 :',x1)\n",
    "print('행 우선 변경 :',x2)"
   ]
  },
  {
   "cell_type": "code",
   "execution_count": 15,
   "metadata": {},
   "outputs": [
    {
     "name": "stdout",
     "output_type": "stream",
     "text": [
      "[200   5  10   1   6  11   2   7  12   3   8  13   4   9  14]\n",
      "[[ 0  1  2  3  4]\n",
      " [ 5  6  7  8  9]\n",
      " [10 11 12 13 14]]\n"
     ]
    }
   ],
   "source": [
    "x1[0] = 200\n",
    "print(x1)\n",
    "print(x)"
   ]
  },
  {
   "cell_type": "markdown",
   "metadata": {},
   "source": [
    "## reshape\n",
    "* array의 shape을 다른 차원으로 변경할 수 있다.\n",
    "* reshape한 후의 결과의 전체 원소 개수와 이전 개수가 같아야 가능하다.\n",
    "* 몇가지의 차원을 적은 후 -1을 채우면 알아서 전체 원소의 개수를 맞춰준다."
   ]
  },
  {
   "cell_type": "code",
   "execution_count": 16,
   "metadata": {},
   "outputs": [
    {
     "name": "stdout",
     "output_type": "stream",
     "text": [
      "[ 0  1  2  3  4  5  6  7  8  9 10 11 12 13 14 15 16 17 18 19 20 21 22 23\n",
      " 24 25 26 27 28 29 30 31 32 33 34 35]\n",
      "(36,)\n",
      "1\n"
     ]
    }
   ],
   "source": [
    "x = np.arange(36)\n",
    "print(x)\n",
    "print(x.shape)\n",
    "print(x.ndim)"
   ]
  },
  {
   "cell_type": "code",
   "execution_count": 18,
   "metadata": {},
   "outputs": [
    {
     "name": "stdout",
     "output_type": "stream",
     "text": [
      "[[ 0  1  2  3  4  5  6  7  8  9 10 11]\n",
      " [12 13 14 15 16 17 18 19 20 21 22 23]\n",
      " [24 25 26 27 28 29 30 31 32 33 34 35]]\n",
      "(3, 12)\n",
      "2\n"
     ]
    }
   ],
   "source": [
    "x = np.arange(36).reshape(3,-1)\n",
    "print(x)\n",
    "print(x.shape)\n",
    "print(x.ndim)"
   ]
  },
  {
   "cell_type": "code",
   "execution_count": 19,
   "metadata": {},
   "outputs": [
    {
     "name": "stdout",
     "output_type": "stream",
     "text": [
      "[[[ 0  1  2  3]\n",
      "  [ 4  5  6  7]\n",
      "  [ 8  9 10 11]]\n",
      "\n",
      " [[12 13 14 15]\n",
      "  [16 17 18 19]\n",
      "  [20 21 22 23]]\n",
      "\n",
      " [[24 25 26 27]\n",
      "  [28 29 30 31]\n",
      "  [32 33 34 35]]]\n",
      "(3, 3, 4)\n",
      "3\n"
     ]
    }
   ],
   "source": [
    "x = np.arange(36).reshape(3,3,-1)\n",
    "print(x)\n",
    "print(x.shape)\n",
    "print(x.ndim)"
   ]
  }
 ],
 "metadata": {
  "kernelspec": {
   "display_name": "Python 3",
   "language": "python",
   "name": "python3"
  },
  "language_info": {
   "codemirror_mode": {
    "name": "ipython",
    "version": 3
   },
   "file_extension": ".py",
   "mimetype": "text/x-python",
   "name": "python",
   "nbconvert_exporter": "python",
   "pygments_lexer": "ipython3",
   "version": "3.8.3"
  }
 },
 "nbformat": 4,
 "nbformat_minor": 4
}
