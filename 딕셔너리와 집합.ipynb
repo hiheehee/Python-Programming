{
 "cells": [
  {
   "cell_type": "markdown",
   "metadata": {},
   "source": [
    "# 딕셔너리 dictionary\n",
    "* 키와 값을 갖는 데이터 구조를 의미한다.\n",
    "* 키는 내부적으로 hash값으로 저장한다.\n",
    "* 순서가 없기 때문에 인덱스가 없다.\n",
    "\n",
    "## 항목 추가 및 변경\n",
    "* 기존에 키가 존재하는 경우 새로운 값으로 업데이트하고 아니라면 새로운 키와 값을 생성한다.\n",
    "\n",
    "\n",
    "## 딕셔너리 관련 함수\n",
    "* keys\n",
    "    - 딕셔너리의 키값만 모아 객체로 반환한다.\n",
    "* values\n",
    "    - 딕셔너리의 값만 모아 객체로 반환한다.\n",
    "* items\n",
    "    - 딕셔너리의 (키, 값)쌍을 튜플로 모아 객체로 반환하다.\n",
    "* clear\n",
    "    - 모든 딕셔너리의 (키, 값)쌍을 삭제해 {}빈 딕셔너리만 남는다.\n",
    "* get\n",
    "    - 해당 키값에 해당하는 값을 리턴한다.\n",
    "* in\n",
    "    - 딕셔너리의 키가 존재하면 True, 아니면 False를 리턴한다.\n",
    "* not in\n",
    "    - 딕셔너리의 키가 존재하면 False, 아니면 True를 리턴한다.\n",
    "* update \n",
    "    - 두 딕셔너리를 병합한다.\n",
    "    - 겹치는 키가 존재하면 parameter로 전달되는 키 값이 overwrite된다.\n",
    "* del\n",
    "    - 해당 키와 value를 삭제한다.\n",
    "* pop\n",
    "    - 해당 키와 value를 삭제한다.\n",
    "    "
   ]
  },
  {
   "cell_type": "code",
   "execution_count": 3,
   "metadata": {},
   "outputs": [
    {
     "name": "stdout",
     "output_type": "stream",
     "text": [
      "2\n"
     ]
    }
   ],
   "source": [
    "a = {1:'orange', 'tomato':2, 'apple':4}\n",
    "print(a['tomato'])"
   ]
  },
  {
   "cell_type": "code",
   "execution_count": 14,
   "metadata": {},
   "outputs": [
    {
     "name": "stdout",
     "output_type": "stream",
     "text": [
      "update b :  {'a': 2, 'b': 2, 'c': 3, 'd': 4, 'e': 5}\n",
      "keys : ['a', 'b', 'c', 'd', 'e']\n",
      "values : [2, 2, 3, 4, 5]\n",
      "items : [('a', 2), ('b', 2), ('c', 3), ('d', 4), ('e', 5)]\n",
      "before pop : 3\n",
      "after pop : {'a': 2, 'b': 2, 'd': 4, 'e': 5}\n",
      "after del : {'a': 2, 'b': 2, 'd': 4}\n"
     ]
    }
   ],
   "source": [
    "a = {'a': 1, 'b': 2, 'c' : 3}\n",
    "b = {'a': 2, 'd': 4, 'e': 5}\n",
    "\n",
    "a.update(b)\n",
    "print(\"update b : \", a)\n",
    "\n",
    "print('keys :',list(a.keys()))\n",
    "print('values :', list(a.values()))\n",
    "print('items :', list(a.items()))\n",
    "\n",
    "print('before pop :', a.pop('c'))\n",
    "print('after pop :', a)\n",
    "\n",
    "del a['e']\n",
    "print('after del :', a)"
   ]
  },
  {
   "cell_type": "markdown",
   "metadata": {},
   "source": [
    "# 집합 Set\n",
    "* 수학의 집합과 동일한 개념의 자료형을 의미한다.\n",
    "* 중복을 허용하지 않는다.\n",
    "* 순서가 없기 때문에 인덱스가 없다.\n",
    "\n",
    "## 합집합\n",
    "* |\n",
    "- union\n",
    "\n",
    "## 교집합\n",
    "* &\n",
    "* intersection\n",
    "\n",
    "## 차집합\n",
    "* -\n",
    "* difference\n",
    "\n",
    "## 부분집합\n",
    "* issubset\n",
    "\n",
    "\n",
    "## 집합 관련 합수\n",
    "* add\n",
    "    - 집합의 값을 1개 추가시 사용한다.\n",
    "* update\n",
    "    - 집합에 여러개의 값을 추가시 사용한다.\n",
    "* remove\n",
    "    - 집합에서 특정값을 제거할때 사용한다.\n"
   ]
  },
  {
   "cell_type": "code",
   "execution_count": 17,
   "metadata": {},
   "outputs": [
    {
     "name": "stdout",
     "output_type": "stream",
     "text": [
      "{1, 2, 3, 4}\n",
      "{1, 2, 3, 4}\n",
      "{2, 3}\n",
      "{2, 3}\n",
      "{1}\n",
      "{1}\n",
      "{4}\n",
      "{4}\n",
      "False\n"
     ]
    }
   ],
   "source": [
    "a = {1, 2, 3}\n",
    "b = {2, 3, 4}\n",
    "\n",
    "print(a|b)\n",
    "print(a.union(b))\n",
    "\n",
    "print(a&b)\n",
    "print(a.intersection(b))\n",
    "\n",
    "print(a-b)\n",
    "print(a.difference(b))\n",
    "\n",
    "print(b-a)\n",
    "print(b.difference(a))\n",
    "\n",
    "print(a.issubset(b))"
   ]
  }
 ],
 "metadata": {
  "kernelspec": {
   "display_name": "Python 3",
   "language": "python",
   "name": "python3"
  },
  "language_info": {
   "codemirror_mode": {
    "name": "ipython",
    "version": 3
   },
   "file_extension": ".py",
   "mimetype": "text/x-python",
   "name": "python",
   "nbconvert_exporter": "python",
   "pygments_lexer": "ipython3",
   "version": "3.8.3"
  }
 },
 "nbformat": 4,
 "nbformat_minor": 4
}
