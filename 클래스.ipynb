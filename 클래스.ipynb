{
 "cells": [
  {
   "cell_type": "markdown",
   "metadata": {},
   "source": [
    "# 클래스 class\n",
    "* 실세계의 것을 모델링하여 속성(attribute)와 동작(method)를 갖는 데이터 타입을 의미한다.\n",
    "* python에서의 string, int, list, dict.. 모두가 다 클래스로 존재한다.\n",
    "* 클래스란 객체를 찍어내기 위한 틀이라고 생각하면 쉽다.\n",
    "* ex) 붕어빵 틀\n",
    "\n",
    "## 객체 object\n",
    "* 클래스로 생성되어 구체화된 객체를 의미한다.\n",
    "* ex) 붕어빵\n",
    "* 어떤 붕어빵을 먹었다고 다른 붕어빵이 손상되지 않는것처럼 객체는 서로 독립적이다.\n",
    "\n",
    "## 클래스 생성\n",
    "<pre><code>\n",
    "class 클래스명:\n",
    "    #속성\n",
    "    변수명 = 값\n",
    "    ...\n",
    "\n",
    "    #메서드\n",
    "    def 함수명(self, 매개변수):\n",
    "        수행할 문장 1\n",
    "        ...\n",
    "    ...</code></pre>\n",
    "\n",
    "## 생성자 constructor\n",
    "* \\_\\_init\\_\\_(self)\n",
    "* 객체가 생성될 때 자동으로 호출되는 메서드를 의미한다.\n",
    "* self인자는 항상 첫번째에 오며 자기 자신을 가리킨다.\n",
    "* 반드시 self일 필요는 없지만 관례적으로 self로 표기한다.\n",
    "    + self\n",
    "        - self는 현재 해당 메쏘드가 호출되는 객체 자신을 가리킨다.\n",
    "        - C++/C#, Java의 this에 해당한다.\n",
    "\n",
    "## 소멸자 destructor\n",
    "* \\_\\_del\\_\\_(self)\n",
    "* 객체가 소멸할때 호출되는 메서드를 의미한다."
   ]
  },
  {
   "cell_type": "code",
   "execution_count": 11,
   "metadata": {},
   "outputs": [
    {
     "name": "stdout",
     "output_type": "stream",
     "text": [
      "bob 이 Pizza을 먹는다.\n"
     ]
    }
   ],
   "source": [
    "class person:\n",
    "    def __init__(self, name, age):\n",
    "        self.name = name\n",
    "        self.age = age\n",
    "        \n",
    "    def eat(self, food):\n",
    "        print(self.name, \"이 {}을 먹는다.\".format(food))\n",
    "\n",
    "a = person('bob', 20)\n",
    "a.eat('Pizza')"
   ]
  },
  {
   "cell_type": "markdown",
   "metadata": {},
   "source": [
    "## 메서드 method\n",
    "* 멤버함수라고도 한다.\n",
    "* 해당 클래스의 객체에서만 호출가능하다.\n",
    "* {obj}.{method}() 형태로 호출된다.\n",
    "* method type\n",
    "    + instance method - 객체로 호출\n",
    "        - 메쏘드는 객체 레벨로 호출 되기 때문에, 해당 메쏘드를 호출한 객체에만 영향을 미친다.\n",
    "    + class method(static method) - class로 호출\n",
    "        - 클래스 메쏘드의 경우, 클래스 레벨로 호출되기 때문에, 클래스 멤버 변수만 변경 가능하다."
   ]
  },
  {
   "cell_type": "code",
   "execution_count": 12,
   "metadata": {},
   "outputs": [
    {
     "data": {
      "text/plain": [
       "7"
      ]
     },
     "execution_count": 12,
     "metadata": {},
     "output_type": "execute_result"
    }
   ],
   "source": [
    "class MATH:\n",
    "    @staticmethod\n",
    "    def add(a, b):\n",
    "        return a + b\n",
    "    \n",
    "    @staticmethod\n",
    "    def multiply(a, b):\n",
    "        return a * b\n",
    "    \n",
    "MATH.add(3,4)"
   ]
  },
  {
   "cell_type": "markdown",
   "metadata": {},
   "source": [
    "## 클래스 상속 Class Inheritance\n",
    "* 부모가 자식에게 재산을 상속하듯이 부모 클래스의 모든 속성 (데이터, 메소드)를 자식 클래스에게 물려주는 것을 의미한다.\n",
    "* 코드를 재사용할 수 있게 된다.\n",
    "* 상속 받고자 하는 대상인 기존 클래스는 (Parent, Super, Base class 라고 부른다.)\n",
    "* 상속 받는 새로운 클래스는(Child, Sub, Derived class 라고 부른다.)\n",
    "\n",
    "### method override\n",
    "* 부모 클래스의 method를 재정의하는 것을 말한다.\n",
    "* 자식 클래스의 인스턴스로 호출시 재정의된 메서드가 호출된다.\n",
    "\n",
    "### super\n",
    "* 자식 클래스에서 부모 클래스의 method를 호출할 때 사용한다."
   ]
  },
  {
   "cell_type": "code",
   "execution_count": 15,
   "metadata": {},
   "outputs": [
    {
     "name": "stdout",
     "output_type": "stream",
     "text": [
      "Elsa의 직업은 king입니다.\n",
      "Anna의 직업은 학생입니다.\n",
      "Elsa은 6시간 준비합니다.\n",
      "Elsa은 6시간 업무를 합니다.\n"
     ]
    }
   ],
   "source": [
    "class person:\n",
    "    def __init__(self, name, age):\n",
    "        self.name = name\n",
    "        self.age = age\n",
    "        \n",
    "    def eat(self, food):\n",
    "        print(\"{}은 {}을 먹는다.\".format(self.name, food))\n",
    "        \n",
    "    def work(self, minute):\n",
    "        print(\"{}은 {}시간 준비합니다.\".format(self.name, minute))\n",
    "        \n",
    "    def career(self):\n",
    "        print(\"{}의 직업은 무직입니다.\".format(self.name))\n",
    "        \n",
    "class student(person):\n",
    "    def __init__(self, name, age):\n",
    "        self.name = name\n",
    "        self.age = age\n",
    "    \n",
    "    # method override\n",
    "    def career(self):\n",
    "        print(\"{}의 직업은 학생입니다.\".format(self.name))\n",
    "    \n",
    "class employee(person):\n",
    "    def __init__(self, name, age):\n",
    "        self.name = name\n",
    "        self.age = age\n",
    "    \n",
    "    # method override\n",
    "    def career(self, job):\n",
    "        print(\"{}의 직업은 {}입니다.\".format(self.name, job))\n",
    "        \n",
    "    def work(self, minute):\n",
    "        super().work(minute)\n",
    "        print(\"{}은 {}시간 업무를 합니다.\".format(self.name, minute))\n",
    "      \n",
    "elsa = employee('Elsa', 20)\n",
    "anna = student('Anna', 15)\n",
    "\n",
    "elsa.career('king')\n",
    "anna.career()\n",
    "\n",
    "elsa.work(6)"
   ]
  },
  {
   "cell_type": "markdown",
   "metadata": {},
   "source": [
    "## special method\n",
    "* \\_\\_로 시작 \\_\\_로 끝나는 특수 함수를 의미한다.\n",
    "* 해당 메쏘드들을 구현하면, 커스텀 객체에 여러가지 파이썬 내장 함수나 연산자를 적용 가능하다.\n",
    "* 오버라이딩 가능한 함수 목록 링크\n",
    "    - https://docs.python.org/3/reference/datamodel.html\n",
    "    - https://docs.python.org/3/reference/datamodel.html#object.__add__"
   ]
  }
 ],
 "metadata": {
  "kernelspec": {
   "display_name": "Python 3",
   "language": "python",
   "name": "python3"
  },
  "language_info": {
   "codemirror_mode": {
    "name": "ipython",
    "version": 3
   },
   "file_extension": ".py",
   "mimetype": "text/x-python",
   "name": "python",
   "nbconvert_exporter": "python",
   "pygments_lexer": "ipython3",
   "version": "3.8.3"
  }
 },
 "nbformat": 4,
 "nbformat_minor": 4
}
