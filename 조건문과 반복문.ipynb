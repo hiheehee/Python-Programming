{
 "cells": [
  {
   "cell_type": "markdown",
   "metadata": {},
   "source": [
    "# 조건문 condition\n",
    "* 특정 조건을 만족하는 경우에 수행할 작업이 있는 경우에 사용한다.\n",
    "* if, else, elif키워드를 사용한다.\n",
    "\n",
    "## Logical AND, OR, NOT\n",
    "* 조건문에 사용되는 조건의 경우, boolean이기 때문에, 논리식 AND, OR, NOT 이 사용가능하다.\n",
    "\n",
    "* 우선순위\n",
    "    - NOT > AND > OR\n",
    "* 논리표\n",
    "    - AND\n",
    "        + T AND T : T\n",
    "        + T AND F : F\n",
    "        + F AND T : F\n",
    "        + F AND F : F\n",
    "    - OR\n",
    "        + T OR T : T\n",
    "        + T OR F : T\n",
    "        + F OR T : T\n",
    "        + F OR F : F\n",
    "    - NOT\n",
    "        + NOT T : F\n",
    "        + NOT F : T\n",
    "        \n",
    "## if의 조건이 bool이 아닌 경우\n",
    "* 일반적으로는 조건문에는 bool이 주로 위치하지만, 정수, 실수, 문자열 리스트 등 기본 타입도 조건에 사용 가능하다.\n",
    "\n",
    "* False로 간주되는 값 (각 타입의 기본값)\n",
    "    - None\n",
    "    - 0\n",
    "    - 0.0\n",
    "    - ''\n",
    "    - [] -> 빈 리스트\n",
    "    - () -> 빈 튜플\n",
    "    - {} -> 빈 딕셔너리\n",
    "    - set() -> 빈 집합\n",
    "* 그밖에는 모두 True로 간주한다."
   ]
  },
  {
   "cell_type": "markdown",
   "metadata": {},
   "source": [
    "# 반복문 Loop\n",
    "* 반복된 작업을 수행할때 사용한다.\n",
    "* for, while등의 키워드를 사용한다.\n",
    "\n",
    "## while\n",
    "* while의 조건이 True인 경우 while 코드 블럭을 계속 수행한다.\n",
    "* 만약 while의 종료되는 코드를 작성하지 않으면 무한루프가 발생해 코드 블록을 빠져나올 수 없다.\n",
    "\n",
    "## for\n",
    "* 리스트, 문자열, 튜플등 컬랙션 타입의 아이템을 하나씩 순회할때 주로 사용한다.\n",
    "\n",
    "### break\n",
    "* loop를 종료할때 사용한다.\n",
    "* 보통 조건문 안에서 수행되고 조건을 만족하는 경우 loop를 탈출하기 위한 용도로 사용된다.\n",
    "\n",
    "### continue\n",
    "* 보통 조건문안에서 수행되고 조건을 만족하는 경우 다음 코드를 수행하지 않고 loop를 반복하기 위해 사용한다.\n",
    "\n",
    "### range\n",
    "* range(끝값 +1)\n",
    "* range(초기값, 끝값+1)\n",
    "* range(초기값, 끝값+1, 증가값) \n",
    "* range(초기값, 끝값+1, 감소값)"
   ]
  },
  {
   "cell_type": "code",
   "execution_count": null,
   "metadata": {},
   "outputs": [],
   "source": []
  }
 ],
 "metadata": {
  "kernelspec": {
   "display_name": "Python 3",
   "language": "python",
   "name": "python3"
  },
  "language_info": {
   "codemirror_mode": {
    "name": "ipython",
    "version": 3
   },
   "file_extension": ".py",
   "mimetype": "text/x-python",
   "name": "python",
   "nbconvert_exporter": "python",
   "pygments_lexer": "ipython3",
   "version": "3.8.3"
  }
 },
 "nbformat": 4,
 "nbformat_minor": 4
}
