{
 "cells": [
  {
   "cell_type": "markdown",
   "metadata": {},
   "source": [
    "# 함수 funcion\n",
    "* 반복적으로 사용되는 가치 있는 부분(f)을 만들어 입력값(x)이 주어졌을 때 결괏값(y)을 돌려주는 것을 의미한다.\n",
    "\n",
    "## 내장함수 built-in function\n",
    "* 파이썬 내부에 이미 정의(구현)되어 있는 함수를 의미한다.\n",
    "    > len 리스트나 튜플등 입력으로 전달되면 아이템의 개수를 출력하는 함수\n",
    "\n",
    "    > sum 리스트나 튜플등 입력으로 전달되면 전체 아이템의 합을 출력하는 함수\n",
    "\n",
    "    > range 정수를 입력으로 전달하면 [0, 정수)로 이루어진 리스트를 생성하는 함수"
   ]
  },
  {
   "cell_type": "code",
   "execution_count": 1,
   "metadata": {},
   "outputs": [
    {
     "name": "stdout",
     "output_type": "stream",
     "text": [
      "4\n",
      "10\n"
     ]
    }
   ],
   "source": [
    "a = [1,2,3,4]\n",
    "print(len(a))\n",
    "print(sum(a))"
   ]
  },
  {
   "cell_type": "markdown",
   "metadata": {},
   "source": [
    "## 함수의 정의\n",
    "* def 키워드를 이용해 함수를 정의한다.\n",
    "<pre><code>\n",
    "def 함수명(매개변수):\n",
    "    body\n",
    "    return 결과값\n",
    "</code></pre>\n",
    "\n",
    "* 함수 이름으로부터 기능이 명시되야 한다.\n",
    "\n",
    "## parameter(argument)\n",
    "- 함수에 전달되는 입력을 의미한다.\n",
    "- 존재하지 않을 수도 1개일수도 여러개의 입력이 있을 수도 있다.\n",
    "-  int, string, float, boolm, list, dict 등등 어떤 파이썬 객체도 전달 가능하다.\n",
    "- 정의된 순서에 땨라 값을 전달하는게 중요하다.\n",
    "    \n",
    "## Default parameter (기본 인자)\n",
    "+ 함수의 파라미터에 기본값을 지정가능한다.\n",
    "+ 파라미터를 명시하지 않을 경우, 지정된 기본값으로 대체한다.\n",
    "+ 디폴트 파라미터 뒤에 일반 파라미터가 위치할 수 없다.\n",
    "+ 올바른 예\n",
    "    > def test(a, b, c = 1) \n",
    "            \n",
    "    > def test(a, b = 2, c = 1)\n",
    "            \n",
    "    > def test(a = 3, b = 2, c = 1)\n",
    "+ 올바르지 않은 예\n",
    "            \n",
    "    > def test(a, b = 1, c)\n",
    "            \n",
    "    > def test(a = 1, b, c)\n",
    "            \n",
    "    > def test(a = 1, b = 2, c)\n",
    "            \n",
    "## keyword parameter (키워드 파라미터)\n",
    "+ 파라미터 전달시 파라미터 이름을 명시하여 전달 가능하다.\n",
    "+ 파라미터 이름을 명시하지 않는 경우 기본적으로 순서에 맞게 전달한다.\n",
    "        \n",
    "## return\n",
    "+ 함수의 종료를 명시할때 사용한다.\n",
    "+ return이 없는 경우     \n",
    "    - 기본적으로 함수 코드 블록이 종료되면 종료로 간주하고 이때 None을 반환한다.\n",
    "+ return만 존재하는 경우\n",
    "    - None을 반환한다.\n",
    "+ return 값 또는 return 수식\n",
    "    - 해당 값을 호출자에게 반환한다.\n",
    "+ tuple 반환하여 복수값의 값을 리턴 가능하다.\n",
    "## variable length argument (가변길이 인자)\n",
    "+ 전달되는 파라미터의 개수가 고정적이지 않은 경우 사용한다.\n",
    "    > *args 파라미터를 튜플형태로 전달한다.\n",
    "       \n",
    "    > **kwargs : 키워드 파라미터로 파리미터를 딕셔너리 형태로 전달한다. (네임드 파라미터)"
   ]
  },
  {
   "cell_type": "code",
   "execution_count": 3,
   "metadata": {},
   "outputs": [
    {
     "name": "stdout",
     "output_type": "stream",
     "text": [
      "7\n"
     ]
    }
   ],
   "source": [
    "def add(a, b):\n",
    "    return a+b\n",
    "\n",
    "print(add(3,4))"
   ]
  },
  {
   "cell_type": "code",
   "execution_count": 8,
   "metadata": {},
   "outputs": [
    {
     "name": "stdout",
     "output_type": "stream",
     "text": [
      "Hello\n"
     ]
    }
   ],
   "source": [
    "def Hi():\n",
    "    print('Hello')\n",
    "\n",
    "Hi()"
   ]
  },
  {
   "cell_type": "code",
   "execution_count": 10,
   "metadata": {},
   "outputs": [
    {
     "name": "stdout",
     "output_type": "stream",
     "text": [
      "[1, 2, 3, 4, 5, 6, 7, 8, 9]\n"
     ]
    }
   ],
   "source": [
    "def printAll(*args):\n",
    "    for x in args:\n",
    "        print(x)\n",
    "        \n",
    "printAll([1,2,3,4,5,6,7,8,9])"
   ]
  },
  {
   "cell_type": "code",
   "execution_count": 17,
   "metadata": {},
   "outputs": [
    {
     "name": "stdout",
     "output_type": "stream",
     "text": [
      "key: apple , value: 1\n",
      "key: orange , value: 2\n",
      "key: kiwi , value: 3\n"
     ]
    }
   ],
   "source": [
    "def printAll2(**kwargs):\n",
    "    for key, value in kwargs.items():\n",
    "        print('key:', key, ', value:', value)\n",
    "        \n",
    "printAll2(apple = 1,orange = 2)\n",
    "printAll2(kiwi = 3)"
   ]
  },
  {
   "cell_type": "markdown",
   "metadata": {},
   "source": [
    "# Lambda 함수\n",
    "* 단일문장으로 표현되는 익명의 함수를 의미한다.\n",
    "* 익명함수\n",
    "    + 이름없는 구현체만 존재하는 간단한 함수를 의미한다.\n",
    "* 코드상에서 한번만 사용되는 기능이 있을때 굳이 함수로 만들지 않고 1회성으로 사용할때 사용한다.\n",
    "* lambda에 유용하게 사용되는 함수\n",
    "    + filter \n",
    "        - 특정 조건을 만족하는 요소만 남기고 필터링한다.\n",
    "    + map \n",
    "        - 각 원소를 주어진 수식에 따라 변형하고 새로운 리스트를 반환한다.\n",
    "    + reduce \n",
    "        - 마지막 한개의 값이 남을때까지 차례대로 앞의 2개의 원소를 가지고 연산을 수행하고 마지막 한개의 값을 출력한다."
   ]
  },
  {
   "cell_type": "code",
   "execution_count": 18,
   "metadata": {},
   "outputs": [
    {
     "data": {
      "text/plain": [
       "[2, 4, 98, 54, 92]"
      ]
     },
     "execution_count": 18,
     "metadata": {},
     "output_type": "execute_result"
    }
   ],
   "source": [
    "nums = [2,4,7,5,98,61,103,54,53,71,87,92]\n",
    "\n",
    "list(filter(lambda x:x%2==0, nums))"
   ]
  },
  {
   "cell_type": "code",
   "execution_count": 19,
   "metadata": {},
   "outputs": [
    {
     "data": {
      "text/plain": [
       "[1, 4, 9, 16, 25, 36, 49, 64, 81, 100]"
      ]
     },
     "execution_count": 19,
     "metadata": {},
     "output_type": "execute_result"
    }
   ],
   "source": [
    "nums = [1,2,3,4,5,6,7,8,9,10]\n",
    "\n",
    "list(map(lambda x: x**2, nums))"
   ]
  },
  {
   "cell_type": "code",
   "execution_count": 20,
   "metadata": {},
   "outputs": [
    {
     "data": {
      "text/plain": [
       "55"
      ]
     },
     "execution_count": 20,
     "metadata": {},
     "output_type": "execute_result"
    }
   ],
   "source": [
    "import functools\n",
    "\n",
    "nums = [1,2,3,4,5,6,7,8,9,10]\n",
    "\n",
    "functools.reduce(lambda x,y:x+y, nums)"
   ]
  }
 ],
 "metadata": {
  "kernelspec": {
   "display_name": "Python 3",
   "language": "python",
   "name": "python3"
  },
  "language_info": {
   "codemirror_mode": {
    "name": "ipython",
    "version": 3
   },
   "file_extension": ".py",
   "mimetype": "text/x-python",
   "name": "python",
   "nbconvert_exporter": "python",
   "pygments_lexer": "ipython3",
   "version": "3.8.3"
  }
 },
 "nbformat": 4,
 "nbformat_minor": 4
}
