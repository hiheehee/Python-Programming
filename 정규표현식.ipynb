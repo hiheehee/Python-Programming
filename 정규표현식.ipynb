{
 "cells": [
  {
   "cell_type": "markdown",
   "metadata": {},
   "source": [
    "# 정규표현식 Regular expression\n",
    "* 특정 패턴과 일치하는 문자열을 검색하거나 치환 또는 제거하는 기능을 지원하는 것을 의미한다.\n",
    "\n",
    "## raw string\n",
    "* 문자열 앞에 r이 붙으면 해당 문자열이 구성된 그대로 문자열로 변환한다.\n",
    "\n",
    "## 기본 패턴\n",
    "* 대문자, 소문자, 숫자의 경우 해당 문자와 정확히 일치한다.\n",
    "* 몇몇 예외가 존재한다.\n",
    "    + . ^ $ * + ? { } [ ] \\ | ( )\n",
    "    \n",
    "* . (마침표) - 어떤 한개의 character와 일치한다. (단, 엔터는 제외다.)\n",
    "* \\w - 문자 character와 일치한다. [a-zA-Z0-9_]\n",
    "* \\s - 공백문자와 일치한다.\n",
    "* \\t - tab과 일치한다.\n",
    "* \\n - 엔터와 일치힌다.\n",
    "* \\r - return과 일치한다.\n",
    "* \\d - 숫자 character와 일치 [0-9]\n",
    "* ^ - 문자열의 시작을 의미한다.\n",
    "* $ - 문자열의 끝을 의미\n",
    "* \\가 붙으면 스페셜한 의미가 없어진다.\n",
    "    + \\.는 .자체를 의미한다. \n",
    "    + \\\\는 \\를 의미한다.\n",
    "\n",
    "* 참조 링크 https://docs.python.org/3/library/re.html\n",
    "\n",
    "## search method\n",
    "* 첫번째로 패턴을 찾으면 match 객체를 반환한다.\n",
    "* 패턴을 찾지 못하면 None을 반환한다."
   ]
  },
  {
   "cell_type": "code",
   "execution_count": 1,
   "metadata": {},
   "outputs": [
    {
     "name": "stdout",
     "output_type": "stream",
     "text": [
      "12345\\n\n"
     ]
    }
   ],
   "source": [
    "a = r'12345\\n'\n",
    "print(a)"
   ]
  },
  {
   "cell_type": "code",
   "execution_count": 3,
   "metadata": {},
   "outputs": [
    {
     "data": {
      "text/plain": [
       "<re.Match object; span=(0, 3), match='abc'>"
      ]
     },
     "execution_count": 3,
     "metadata": {},
     "output_type": "execute_result"
    }
   ],
   "source": [
    "import re\n",
    "\n",
    "a = re.search(r'abc', 'abc123')\n",
    "a"
   ]
  },
  {
   "cell_type": "code",
   "execution_count": 8,
   "metadata": {},
   "outputs": [
    {
     "data": {
      "text/plain": [
       "<re.Match object; span=(0, 1), match='1'>"
      ]
     },
     "execution_count": 8,
     "metadata": {},
     "output_type": "execute_result"
    }
   ],
   "source": [
    "b = re.search(r'\\w', '123abc123')\n",
    "b"
   ]
  },
  {
   "cell_type": "markdown",
   "metadata": {},
   "source": [
    "## 메타 캐릭터 metacharacters\n",
    "\n",
    "### []\n",
    "* [] 내부의 메타 캐릭터는 캐릭터 자체를 나타냄\n",
    "* e.g)\n",
    "    + [a1b2] : a or 1 or b or 2\n",
    "    + [abc.^] : a or b or c or . or ^\n",
    "    + [a-d] : -와 함께 사용되면 해당 문자 사이의 범위에 속하는 문자 중 하나\n",
    "    + [0-9] : 모든 숫자\n",
    "    + [a-z] : 모든 소문자\n",
    "    + [A-Z] : 모든 대문자\n",
    "    + [a-zA-Z0-9] : 모든 알파벳 문자 및 숫자\n",
    "    + [^0-9] : ^가 맨 앞에 사용 되는 경우 해당 문자 패턴이 아닌 것과 매칭"
   ]
  },
  {
   "cell_type": "code",
   "execution_count": 10,
   "metadata": {},
   "outputs": [
    {
     "data": {
      "text/plain": [
       "<re.Match object; span=(0, 4), match='toma'>"
      ]
     },
     "execution_count": 10,
     "metadata": {},
     "output_type": "execute_result"
    }
   ],
   "source": [
    "re.search(r'[acbdt]oma', 'tomato')"
   ]
  },
  {
   "cell_type": "code",
   "execution_count": 11,
   "metadata": {},
   "outputs": [
    {
     "data": {
      "text/plain": [
       "<re.Match object; span=(0, 2), match='7t'>"
      ]
     },
     "execution_count": 11,
     "metadata": {},
     "output_type": "execute_result"
    }
   ],
   "source": [
    "re.search(r'[0-7]t', '7th')"
   ]
  },
  {
   "cell_type": "markdown",
   "metadata": {},
   "source": [
    "### \\\n",
    "* 다른 문자와 함께 사용되어 특수한 의미를 지닌다.\n",
    "* e.g)\n",
    "    + \\d : 숫자를 [0-9]와 동일\n",
    "    + \\D : 숫자가 아닌 문자 [^0-9]와 동일\n",
    "    + \\s : 공백 문자(띄어쓰기, 탭, 엔터 등)\n",
    "    + \\S : 공백이 아닌 문자\n",
    "    + \\w : 알파벳대소문자, 숫자 [0-9a-zA-Z]와 동일\n",
    "    + \\W : non alpha-numeric 문자 [^0-9a-zA-Z]와 동일\n",
    "* 메타 캐릭터가 캐릭터 자체를 표현하도록 할 경우 사용\n",
    "* e.g)\n",
    "    + \\.\n",
    "    + \\\\"
   ]
  },
  {
   "cell_type": "code",
   "execution_count": 12,
   "metadata": {},
   "outputs": [
    {
     "data": {
      "text/plain": [
       "<re.Match object; span=(5, 7), match='. '>"
      ]
     },
     "execution_count": 12,
     "metadata": {},
     "output_type": "execute_result"
    }
   ],
   "source": [
    "re.search(r'.\\s', 'Hello. python world')"
   ]
  },
  {
   "cell_type": "markdown",
   "metadata": {},
   "source": [
    "### .\n",
    "* 모든 문자를 의미한다."
   ]
  },
  {
   "cell_type": "code",
   "execution_count": 13,
   "metadata": {},
   "outputs": [
    {
     "data": {
      "text/plain": [
       "<re.Match object; span=(0, 2), match='ap'>"
      ]
     },
     "execution_count": 13,
     "metadata": {},
     "output_type": "execute_result"
    }
   ],
   "source": [
    "re.search(r'a.', 'apple and orange')"
   ]
  },
  {
   "cell_type": "markdown",
   "metadata": {},
   "source": [
    "### 반복패턴\n",
    "* 패턴 뒤에 위치하는 *, +, ?는 해당 패턴이 반복적으로 존재하는지 검사한다.\n",
    "* 단 반복의 횟수 제한은 불가능하다.\n",
    "    > '+' :  1번 이상의 패턴이 발생한다.\n",
    "    \n",
    "    > '*' : 0번 이상의 패턴이 발생한다.\n",
    "    \n",
    "    > '?' : 0 혹은 1번의 패턴이 발생한다.\n",
    "    \n",
    "* 반복을 패턴의 경우 가능한 많은 부분이 매칭되도록 한다."
   ]
  },
  {
   "cell_type": "code",
   "execution_count": 14,
   "metadata": {},
   "outputs": [
    {
     "data": {
      "text/plain": [
       "<re.Match object; span=(0, 8), match='abcbdccb'>"
      ]
     },
     "execution_count": 14,
     "metadata": {},
     "output_type": "execute_result"
    }
   ],
   "source": [
    "re.search(r'a[bcd]*b', 'abcbdccb')"
   ]
  },
  {
   "cell_type": "markdown",
   "metadata": {},
   "source": [
    "### ^\n",
    "* ^ 문자열의 맨 앞부터 일치하는 경우 검색한다.\n",
    "\n",
    "### \\$\n",
    "* \\$ 문자열의 맨 뒤부터 일치하는 경우 검색한다."
   ]
  },
  {
   "cell_type": "code",
   "execution_count": 15,
   "metadata": {},
   "outputs": [
    {
     "data": {
      "text/plain": [
       "<re.Match object; span=(6, 12), match='banana'>"
      ]
     },
     "execution_count": 15,
     "metadata": {},
     "output_type": "execute_result"
    }
   ],
   "source": [
    "re.search(r'b\\w+a', 'canadabanana')"
   ]
  },
  {
   "cell_type": "code",
   "execution_count": 16,
   "metadata": {},
   "outputs": [],
   "source": [
    "re.search(r'^b\\w+a', 'canadabanana')"
   ]
  },
  {
   "cell_type": "code",
   "execution_count": 17,
   "metadata": {},
   "outputs": [
    {
     "data": {
      "text/plain": [
       "<re.Match object; span=(0, 6), match='banana'>"
      ]
     },
     "execution_count": 17,
     "metadata": {},
     "output_type": "execute_result"
    }
   ],
   "source": [
    "re.search(r'b\\w+a', 'banana')"
   ]
  },
  {
   "cell_type": "code",
   "execution_count": 18,
   "metadata": {},
   "outputs": [
    {
     "data": {
      "text/plain": [
       "<re.Match object; span=(0, 6), match='banana'>"
      ]
     },
     "execution_count": 18,
     "metadata": {},
     "output_type": "execute_result"
    }
   ],
   "source": [
    "re.search(r'b\\w+a$', 'banana')"
   ]
  },
  {
   "cell_type": "code",
   "execution_count": 19,
   "metadata": {},
   "outputs": [],
   "source": [
    "re.search(r'b\\w+a$', 'banana!')"
   ]
  },
  {
   "cell_type": "markdown",
   "metadata": {},
   "source": [
    "### grouping\n",
    "* ()을 사용하여 그루핑한다.\n",
    "* 매칭 결과를 각 그룹별로 분리 가능하다.\n",
    "* 패턴 명시 할 때, 각 그룹을 괄호() 안에 넣어 분리하여 사용한다.\n",
    "* 그룹전체는 0번이다."
   ]
  },
  {
   "cell_type": "code",
   "execution_count": 20,
   "metadata": {},
   "outputs": [
    {
     "name": "stdout",
     "output_type": "stream",
     "text": [
      "test\n",
      "gmail.com\n",
      "test@gmail.com\n"
     ]
    }
   ],
   "source": [
    "m = re.search(r'(\\w+)@(.+)', 'test@gmail.com')\n",
    "print(m.group(1))\n",
    "print(m.group(2))\n",
    "print(m.group(0))"
   ]
  },
  {
   "cell_type": "markdown",
   "metadata": {},
   "source": [
    "### {}\n",
    "* *, +, ?를 사용한 반복 패턴과 달리 패턴뒤에 위치하는 중괄호{}에 숫자를 명시해 해당 숫자 만큼의 반복인 경우에만 매칭가능하다.\n",
    "* {n}인 경우 n번 반복한다.\n",
    "* {n,m}인 경우 n번부터 m번 반복하나 greedy하게 동작한다.\n",
    "    \n",
    "### {}?\n",
    "* {n,m}과는 달리 {n,m}?로 사용하면 non-greedy하게 동작한다.\n",
    "* 최소 n번만 매칭하면 만족한다."
   ]
  },
  {
   "cell_type": "code",
   "execution_count": 29,
   "metadata": {},
   "outputs": [
    {
     "name": "stdout",
     "output_type": "stream",
     "text": [
      "<re.Match object; span=(0, 9), match='Woooooooo'>\n",
      "<re.Match object; span=(0, 3), match='Woo'>\n"
     ]
    }
   ],
   "source": [
    "print(re.search('Wo{2,8}', 'Woooooooow!!'))\n",
    "\n",
    "print(re.search('Wo{2,8}?', 'Woooooooow!!'))"
   ]
  },
  {
   "cell_type": "markdown",
   "metadata": {},
   "source": [
    "### 미니멈 매칭 non-greedy way\n",
    "* 최대한 많은 부분을 매칭하는 *, +, ?를 사용한 매칭과는 달리 최소한의 매칭을 수행한다.\n",
    "* *?, +?을 이용하여 해당 기능을 구현한다."
   ]
  },
  {
   "cell_type": "code",
   "execution_count": 24,
   "metadata": {},
   "outputs": [
    {
     "data": {
      "text/plain": [
       "<re.Match object; span=(0, 18), match='<html>Hello</html>'>"
      ]
     },
     "execution_count": 24,
     "metadata": {},
     "output_type": "execute_result"
    }
   ],
   "source": [
    "re.search(r'<.+>', '<html>Hello</html>')"
   ]
  },
  {
   "cell_type": "code",
   "execution_count": 25,
   "metadata": {},
   "outputs": [
    {
     "data": {
      "text/plain": [
       "<re.Match object; span=(0, 6), match='<html>'>"
      ]
     },
     "execution_count": 25,
     "metadata": {},
     "output_type": "execute_result"
    }
   ],
   "source": [
    "re.search(r'<.+?>', '<html>Hello</html>')"
   ]
  },
  {
   "cell_type": "markdown",
   "metadata": {},
   "source": [
    "### match\n",
    "* 문자열의 시작부터 비교해 패턴을 찾는 search와 같다.\n",
    "* 해당 패턴이 존재하지 않으면 None을 반환한다."
   ]
  },
  {
   "cell_type": "code",
   "execution_count": 30,
   "metadata": {},
   "outputs": [],
   "source": [
    "re.match(r'\\d\\d', 'This year is 2021.')"
   ]
  },
  {
   "cell_type": "code",
   "execution_count": 32,
   "metadata": {},
   "outputs": [
    {
     "data": {
      "text/plain": [
       "<re.Match object; span=(0, 2), match='20'>"
      ]
     },
     "execution_count": 32,
     "metadata": {},
     "output_type": "execute_result"
    }
   ],
   "source": [
    "re.match(r'\\d\\d', '2021 years ago')"
   ]
  },
  {
   "cell_type": "code",
   "execution_count": 33,
   "metadata": {},
   "outputs": [
    {
     "data": {
      "text/plain": [
       "<re.Match object; span=(0, 2), match='20'>"
      ]
     },
     "execution_count": 33,
     "metadata": {},
     "output_type": "execute_result"
    }
   ],
   "source": [
    "re.search(r'^\\d\\d', '2021 years ago')"
   ]
  },
  {
   "cell_type": "markdown",
   "metadata": {},
   "source": [
    "### findall\n",
    "* 최초로 매칭되는 패턴만 반환하는 search와 달리 매칭되는 전체의 패턴을 반환한다.\n",
    "* 매칭되는 모든 결과를 리스트 형태로 반환한다."
   ]
  },
  {
   "cell_type": "code",
   "execution_count": 35,
   "metadata": {},
   "outputs": [
    {
     "data": {
      "text/plain": [
       "<re.Match object; span=(13, 17), match='2021'>"
      ]
     },
     "execution_count": 35,
     "metadata": {},
     "output_type": "execute_result"
    }
   ],
   "source": [
    "re.search(r'\\d\\d\\d\\d', 'This year is 2021. Last year is 2020.')"
   ]
  },
  {
   "cell_type": "code",
   "execution_count": 36,
   "metadata": {},
   "outputs": [
    {
     "data": {
      "text/plain": [
       "['2021', '2020']"
      ]
     },
     "execution_count": 36,
     "metadata": {},
     "output_type": "execute_result"
    }
   ],
   "source": [
    "re.findall(r'\\d\\d\\d\\d', 'This year is 2021. Last year is 2020.')"
   ]
  },
  {
   "cell_type": "markdown",
   "metadata": {},
   "source": [
    "### sub\n",
    "* 주어진 문자열에서 일치하는 모든 패턴을 replace하여 결과를 문자열로 다시 반환한다.\n",
    "* 두번째 인자는 특정 문자열이 될 수도 있고, 함수가 될 수도 있다.\n",
    "* count가 0인 경우는 전체를, 1이상이면 해당 숫자만큼 치환된다."
   ]
  },
  {
   "cell_type": "code",
   "execution_count": 37,
   "metadata": {},
   "outputs": [
    {
     "data": {
      "text/plain": [
       "'great great test3@gmail.com'"
      ]
     },
     "execution_count": 37,
     "metadata": {},
     "output_type": "execute_result"
    }
   ],
   "source": [
    "re.sub(r'[\\w]+@[\\w.]+', 'great', 'test@gmail.com test2@gmail.com test3@gmail.com', count=2)"
   ]
  },
  {
   "cell_type": "markdown",
   "metadata": {},
   "source": [
    "### compile\n",
    "* 동일한 정규표현식을 매번 다시 쓰기 번거로울때 사용한다.\n",
    "* 정규표현식을 re.RegexObject 객체로 저장하여 사용가능하다."
   ]
  },
  {
   "cell_type": "code",
   "execution_count": 51,
   "metadata": {},
   "outputs": [
    {
     "data": {
      "text/plain": [
       "['test@gmail.com', 'test2@gmail.com', 'test3@gmail.com']"
      ]
     },
     "execution_count": 51,
     "metadata": {},
     "output_type": "execute_result"
    }
   ],
   "source": [
    "email_reg = re.compile(r'[\\w-]+@[\\w.]+')\n",
    "email_reg.findall('test@gmail.com test2@gmail.com test3@gmail.com')"
   ]
  }
 ],
 "metadata": {
  "kernelspec": {
   "display_name": "Python 3",
   "language": "python",
   "name": "python3"
  },
  "language_info": {
   "codemirror_mode": {
    "name": "ipython",
    "version": 3
   },
   "file_extension": ".py",
   "mimetype": "text/x-python",
   "name": "python",
   "nbconvert_exporter": "python",
   "pygments_lexer": "ipython3",
   "version": "3.8.3"
  }
 },
 "nbformat": 4,
 "nbformat_minor": 4
}
