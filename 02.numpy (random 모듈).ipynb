{
 "cells": [
  {
   "cell_type": "code",
   "execution_count": 1,
   "metadata": {},
   "outputs": [],
   "source": [
    "import numpy as np"
   ]
  },
  {
   "cell_type": "markdown",
   "metadata": {},
   "source": [
    "## random 서브 모듈\n",
    "\n",
    "## rand\n",
    "* 0과 1사이의 분포로 랜덤한 ndarray를 생성한다."
   ]
  },
  {
   "cell_type": "code",
   "execution_count": 2,
   "metadata": {},
   "outputs": [
    {
     "data": {
      "text/plain": [
       "array([[0.89147073, 0.44834739, 0.71924919, 0.7097772 , 0.42987547],\n",
       "       [0.86361135, 0.19427741, 0.55684792, 0.02785793, 0.72810296]])"
      ]
     },
     "execution_count": 2,
     "metadata": {},
     "output_type": "execute_result"
    }
   ],
   "source": [
    "np.random.rand(2,5)"
   ]
  },
  {
   "cell_type": "markdown",
   "metadata": {},
   "source": [
    "## randn\n",
    "* n은 정규 분포인 normal distribution을 의미한다.\n",
    "* 정규분포로 샘플링된 랜덤 ndarray 생성한다."
   ]
  },
  {
   "cell_type": "code",
   "execution_count": 3,
   "metadata": {},
   "outputs": [
    {
     "data": {
      "text/plain": [
       "array([[-0.46856822, -0.93257847,  0.51633377, -0.59133033,  0.28404075],\n",
       "       [-0.38329722,  0.42694999, -3.51659035, -0.15396167, -1.05471007]])"
      ]
     },
     "execution_count": 3,
     "metadata": {},
     "output_type": "execute_result"
    }
   ],
   "source": [
    "np.random.randn(2,5)"
   ]
  },
  {
   "cell_type": "markdown",
   "metadata": {},
   "source": [
    "## randint\n",
    "* 특정한 정수 사이의 값을 랜덤하게 샘플링한다."
   ]
  },
  {
   "cell_type": "code",
   "execution_count": 4,
   "metadata": {},
   "outputs": [
    {
     "data": {
      "text/plain": [
       "array([[2, 3],\n",
       "       [1, 3],\n",
       "       [8, 3],\n",
       "       [6, 5],\n",
       "       [2, 4],\n",
       "       [4, 9],\n",
       "       [1, 7]])"
      ]
     },
     "execution_count": 4,
     "metadata": {},
     "output_type": "execute_result"
    }
   ],
   "source": [
    "np.random.randint(1,10, size =(7,2))"
   ]
  },
  {
   "cell_type": "markdown",
   "metadata": {},
   "source": [
    "## seed\n",
    "* 랜덤한 값을 동일하게 다시 생성하고자 할때 샤용한다.\n",
    "* seed를 사용하면 랜덤하게 샘플링한 값이 다시 실행되도 그 값이 나온다."
   ]
  },
  {
   "cell_type": "code",
   "execution_count": 7,
   "metadata": {},
   "outputs": [
    {
     "data": {
      "text/plain": [
       "array([[ 1.3315865 ,  0.71527897],\n",
       "       [-1.54540029, -0.00838385],\n",
       "       [ 0.62133597, -0.72008556]])"
      ]
     },
     "execution_count": 7,
     "metadata": {},
     "output_type": "execute_result"
    }
   ],
   "source": [
    "np.random.seed(10)\n",
    "np.random.randn(3,2)"
   ]
  },
  {
   "cell_type": "markdown",
   "metadata": {},
   "source": [
    "## choice\n",
    "* 주어진 1차원 ndarray로 부터 랜덤으로 샘플링된다.\n",
    "* 정수가 주어진 경우 np.arange(해당 숫자)로 간주한다.\n",
    "* replace 값이 True인경우 중복으로 샘플링이 발생할 수 있고 False인 경우 중복으로 발생할 수 없다."
   ]
  },
  {
   "cell_type": "code",
   "execution_count": 8,
   "metadata": {},
   "outputs": [
    {
     "data": {
      "text/plain": [
       "array([[ 0, 40, 36, 16],\n",
       "       [11, 54, 88, 62],\n",
       "       [33, 72, 78, 49]])"
      ]
     },
     "execution_count": 8,
     "metadata": {},
     "output_type": "execute_result"
    }
   ],
   "source": [
    "np.random.choice(100, size=(3, 4))"
   ]
  },
  {
   "cell_type": "code",
   "execution_count": 10,
   "metadata": {},
   "outputs": [
    {
     "data": {
      "text/plain": [
       "array([[2.6, 2. , 2.6],\n",
       "       [2. , 2. , 2.6]])"
      ]
     },
     "execution_count": 10,
     "metadata": {},
     "output_type": "execute_result"
    }
   ],
   "source": [
    "x = np.array([1, 2, 3, 1.5, 2.6, 4.9])\n",
    "np.random.choice(x, size=(2, 3), replace=True)"
   ]
  },
  {
   "cell_type": "markdown",
   "metadata": {},
   "source": [
    "## 확률분포에 따른 ndarray 생성\n",
    "* uniform\n",
    "* normal"
   ]
  },
  {
   "cell_type": "code",
   "execution_count": 11,
   "metadata": {},
   "outputs": [
    {
     "data": {
      "text/plain": [
       "array([[1.13112653, 1.11288837, 2.53091164, 1.02357606, 2.22388668],\n",
       "       [1.66376451, 2.11929673, 1.67099929, 1.82236509, 1.153711  ],\n",
       "       [2.70608598, 1.87997491, 1.24390829, 2.46346925, 1.27756493],\n",
       "       [2.5337601 , 2.66397954, 1.61955611, 2.19516458, 2.74478492]])"
      ]
     },
     "execution_count": 11,
     "metadata": {},
     "output_type": "execute_result"
    }
   ],
   "source": [
    "np.random.uniform(1.0, 3.0, size=(4, 5))"
   ]
  },
  {
   "cell_type": "code",
   "execution_count": 12,
   "metadata": {},
   "outputs": [
    {
     "data": {
      "text/plain": [
       "array([[-1.34306988e+00,  1.45339286e+00,  1.16944865e-03,\n",
       "        -1.19203847e-02],\n",
       "       [ 7.15883143e-01, -1.18576855e+00, -6.36327905e-01,\n",
       "        -6.10813844e-01],\n",
       "       [-1.31939140e+00, -5.61728416e-01,  2.05384574e-01,\n",
       "        -9.53360676e-01]])"
      ]
     },
     "execution_count": 12,
     "metadata": {},
     "output_type": "execute_result"
    }
   ],
   "source": [
    "np.random.normal(size=(3, 4))\n",
    "np.random.randn(3, 4)"
   ]
  }
 ],
 "metadata": {
  "kernelspec": {
   "display_name": "Python 3",
   "language": "python",
   "name": "python3"
  },
  "language_info": {
   "codemirror_mode": {
    "name": "ipython",
    "version": 3
   },
   "file_extension": ".py",
   "mimetype": "text/x-python",
   "name": "python",
   "nbconvert_exporter": "python",
   "pygments_lexer": "ipython3",
   "version": "3.8.3"
  }
 },
 "nbformat": 4,
 "nbformat_minor": 4
}
