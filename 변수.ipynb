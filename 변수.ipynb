{
 "cells": [
  {
   "cell_type": "markdown",
   "metadata": {},
   "source": [
    "# 주석 comment\n",
    "\n",
    "* #으로 시작한 문장을 의미한다.\n",
    "* 프로그래머를 위한 것으로 설명문을 달때 사용한다."
   ]
  },
  {
   "cell_type": "code",
   "execution_count": 4,
   "metadata": {},
   "outputs": [],
   "source": [
    "# 한줄 주석인 경우"
   ]
  },
  {
   "cell_type": "markdown",
   "metadata": {},
   "source": [
    "# 변수 이름 규칙 variable naming\n",
    "\n",
    "* 숫자로 시작할 수 없고 영문 대소문자, _, 숫자로 구성 가능한다.\n",
    "* 일반적으로 정확하고 간결한 이름을 사용하는 것이 원칙이다.\n",
    "* 예약어로 사용된 이름을 사용할 수 없다.\n",
    "\n",
    "## 예약어 reserced keywords\n",
    "\n",
    "* python에서 미리 선점해 사용중인 키워드\n",
    "* 변수, 함수, 클래스 등등의 사용자 정의 이름으로 사용할 수 없다.\n",
    "    - for\n",
    "    - while\n",
    "    - if\n",
    "    - elif\n",
    "    - else\n",
    "    - class\n",
    "    - try\n",
    "    - except\n",
    "    - ...\n",
    "    "
   ]
  },
  {
   "cell_type": "markdown",
   "metadata": {},
   "source": [
    "# 기본 데이터 타입\n",
    "\n",
    "* 숫자형\n",
    "    - 정수\n",
    "    - 실수\n",
    "    - 복소수\n",
    "    - 8진수\n",
    "    - 16진수\n",
    "* 문자열\n",
    "* 불리언\n",
    "\n",
    "## type 함수\n",
    "* 해당 변수, 값의 타입을 알고 싶을때 사용한다."
   ]
  },
  {
   "cell_type": "code",
   "execution_count": 6,
   "metadata": {},
   "outputs": [
    {
     "name": "stdout",
     "output_type": "stream",
     "text": [
      "<class 'int'>\n",
      "<class 'float'>\n"
     ]
    }
   ],
   "source": [
    "a = 100\n",
    "b = 20.21\n",
    "\n",
    "print(type(a))\n",
    "print(type(b))"
   ]
  },
  {
   "cell_type": "markdown",
   "metadata": {},
   "source": [
    "## None\n",
    "* 아무런 값을 갖지 않을때 사용한다.\n",
    "* 일반적으로 초기값을 갖지 않는 변수를 생성할때 사용한다.\n",
    "* 다른 언어의 NULL, nil과 같은 의미로 사용된다."
   ]
  },
  {
   "cell_type": "code",
   "execution_count": 7,
   "metadata": {},
   "outputs": [
    {
     "name": "stdout",
     "output_type": "stream",
     "text": [
      "None\n"
     ]
    }
   ],
   "source": [
    "c = None\n",
    "print(c)"
   ]
  },
  {
   "cell_type": "markdown",
   "metadata": {},
   "source": [
    "# 비교 연산자 Comparison operator\n",
    "* == (같다)\n",
    "* != (같지 않다)\n",
    "* < , > (작다, 크다)\n",
    "* <= . >= (작거나 같다, 크거나 같다)\n",
    "* 비교 연산자의 결과는 bool타입 (참, 거짓)"
   ]
  },
  {
   "cell_type": "code",
   "execution_count": 9,
   "metadata": {},
   "outputs": [
    {
     "name": "stdout",
     "output_type": "stream",
     "text": [
      "False\n",
      "True\n",
      "False\n",
      "False\n",
      "True\n",
      "True\n"
     ]
    }
   ],
   "source": [
    "a = 20\n",
    "b = 21\n",
    "\n",
    "print(a == b)\n",
    "print(a != b)\n",
    "print(a > b)\n",
    "print(a >= b)\n",
    "print(a < b)\n",
    "print(a <= b)"
   ]
  },
  {
   "cell_type": "markdown",
   "metadata": {},
   "source": [
    "# 수학 기본 연산자\n",
    "* +\n",
    "* -\n",
    "* *\n",
    "* /\n",
    "* % (나머지)\n",
    "* ** (지수 승)"
   ]
  },
  {
   "cell_type": "code",
   "execution_count": 10,
   "metadata": {},
   "outputs": [
    {
     "name": "stdout",
     "output_type": "stream",
     "text": [
      "5\n",
      "-1\n",
      "6\n",
      "0.6666666666666666\n",
      "2\n",
      "8\n"
     ]
    }
   ],
   "source": [
    "a = 2\n",
    "b = 3\n",
    "\n",
    "print(a + b)\n",
    "print(a - b)\n",
    "print(a * b)\n",
    "print(a / b)\n",
    "print(a % b)\n",
    "print(a ** b)"
   ]
  },
  {
   "cell_type": "markdown",
   "metadata": {},
   "source": [
    "# 연산자 우선순위 operator priorities\n",
    "* 수학의 연산자와 동일\n",
    "* ()를 사용해 연산을 선수할 수 있다."
   ]
  },
  {
   "cell_type": "code",
   "execution_count": 11,
   "metadata": {},
   "outputs": [
    {
     "name": "stdout",
     "output_type": "stream",
     "text": [
      "14\n",
      "20\n"
     ]
    }
   ],
   "source": [
    "a = 2\n",
    "b = 3\n",
    "c = 4\n",
    "\n",
    "print(a + b * c)\n",
    "print((a + b) * c)"
   ]
  },
  {
   "cell_type": "markdown",
   "metadata": {},
   "source": [
    "# 식평가 expression evaluation & 대입 assignment \n",
    "* 변수의 값이 변경되기 위해서는 =를 사용하여 대입이 발생하는 경우에만 해당된다."
   ]
  },
  {
   "cell_type": "code",
   "execution_count": 12,
   "metadata": {},
   "outputs": [
    {
     "name": "stdout",
     "output_type": "stream",
     "text": [
      "9\n",
      "6\n"
     ]
    }
   ],
   "source": [
    "a = 9\n",
    "a - 3\n",
    "print(a)\n",
    "\n",
    "b = 9\n",
    "b = b - 3\n",
    "print(b)"
   ]
  },
  {
   "cell_type": "markdown",
   "metadata": {},
   "source": [
    "# 문자열 String\n",
    "* 여러개의 문자, 단어등으로 구성된 문자들의 집합을 의미한다.\n",
    "* 한줄 문자열일 경우 '나 \" 사이의 문자를 넣어서 생성한다.\n",
    "* 여러줄에 걸친 문자열의 경우 '''나 \"\"\"사이에 문자를 넣어서 생성한다."
   ]
  },
  {
   "cell_type": "code",
   "execution_count": 22,
   "metadata": {},
   "outputs": [
    {
     "name": "stdout",
     "output_type": "stream",
     "text": [
      "Hello python I'm a\n",
      "Hello python!\n",
      "'Hello! I'm c\n",
      "\"Hello !!\"\n",
      "\n",
      "Hello~~\n",
      "python~~\n",
      "world~~\n",
      "\n"
     ]
    }
   ],
   "source": [
    "a = \"Hello python I'm a\"\n",
    "b = 'Hello python!'\n",
    "c = \"'Hello! I'm c\"\n",
    "d = '\"Hello !!\"'\n",
    "e = '''\n",
    "Hello~~\n",
    "python~~\n",
    "world~~\n",
    "'''\n",
    "\n",
    "print(a)\n",
    "print(b)\n",
    "print(c)\n",
    "print(d)\n",
    "print(e)"
   ]
  },
  {
   "cell_type": "markdown",
   "metadata": {},
   "source": [
    "## 이스케이프 코드 escape code\n",
    "* 프로그래밍시 사용할 수 있도록 미리 정해둔 문자 조합을 의미한다.\n",
    "    - \\n 줄 바꿈\n",
    "    - \\t 탭 간격\n",
    "    - \\\\ 문자 \\ 그대로 표현\n",
    "    - \\' 문자 ' 그대로 표현\n",
    "    - \\\" 문자 \" 그대로 표현\n",
    "    - \\r 캐리지 리턴\n",
    "    - \\f 폼피드\n",
    "    - \\a 벨 소리\n",
    "    - \\b 백 스페이스 \n",
    "    - \\000 널 문자"
   ]
  },
  {
   "cell_type": "code",
   "execution_count": 16,
   "metadata": {},
   "outputs": [
    {
     "name": "stdout",
     "output_type": "stream",
     "text": [
      "Hello\tworld\n",
      "\n",
      "\n",
      "I'm java\n"
     ]
    }
   ],
   "source": [
    "print('Hello\\tworld\\n\\n')\n",
    "print('I\\'m java')"
   ]
  },
  {
   "cell_type": "markdown",
   "metadata": {},
   "source": [
    "## 문자열 인덱스 String indexing\n",
    "* 문자열의 각 문자는 인덱스라 불리는 순서가 존재한다.\n",
    "* 첫번째 문자의 순서는 0으로 시작한다.\n",
    "* 파이썬은 음수 인덱스를 지원한다.\n",
    "* -1은 가장 마지막 문자를 의미하고 -2는 마지막에서 두번째 문자를 의미한다.\n",
    "* 인덱스는 [0, 문자열의 길이)의 범위만 유효하다.\n",
    "* 음수 인덱스의 경우 [-문자열의 길이, -1]의 범위만큼 유효하다."
   ]
  },
  {
   "cell_type": "code",
   "execution_count": 18,
   "metadata": {},
   "outputs": [
    {
     "name": "stdout",
     "output_type": "stream",
     "text": [
      "H\n",
      "d\n",
      "w\n"
     ]
    }
   ],
   "source": [
    "a = 'Hello world'\n",
    "print(a[0])\n",
    "print(a[-1])\n",
    "print(a[-5])"
   ]
  },
  {
   "cell_type": "markdown",
   "metadata": {},
   "source": [
    "## 문자열 함수\n",
    "* 문자열은 여러가지 기능을 가진 함수를 내장하고 있다.\n",
    "    - replace\n",
    "        + 문자열내의 특정 문자를 치환한다.\n",
    "        + replace('치환되는 문자', '치환하는 문자')\n",
    "    - format\n",
    "        + 문자열내의 측정한 값을 변수로부터 초기화해 동적으로 문자열을 생성할 수있다.\n",
    "    - split\n",
    "        + 문자열을 특장 문자로 구분하여 문자열 리스트로 치환한다.\n",
    "    - upper\n",
    "        + 문자열을 모두 대문자로 치환한다.\n",
    "    - lower\n",
    "        + 문자열을 모두 소문자로 치환한다."
   ]
  },
  {
   "cell_type": "code",
   "execution_count": 23,
   "metadata": {},
   "outputs": [
    {
     "name": "stdout",
     "output_type": "stream",
     "text": [
      "Hello World\n",
      "HELLO WORLD\n",
      "hello world\n",
      "kello World\n",
      "오늘 출력해 볼 문자열은 Hello World 입니다.\n",
      "['Hell', ' W', 'rld']\n"
     ]
    }
   ],
   "source": [
    "a = \"Hello World\"\n",
    "u = a.upper()\n",
    "l = a.lower()\n",
    "r = a.replace('H', 'k')\n",
    "f = '오늘 출력해 볼 문자열은 {} 입니다.'.format(a)\n",
    "s = a.split(\"o\")\n",
    "\n",
    "print(a)\n",
    "print(u)\n",
    "print(l)\n",
    "print(r)\n",
    "print(f)\n",
    "print(s)"
   ]
  }
 ],
 "metadata": {
  "kernelspec": {
   "display_name": "Python 3",
   "language": "python",
   "name": "python3"
  },
  "language_info": {
   "codemirror_mode": {
    "name": "ipython",
    "version": 3
   },
   "file_extension": ".py",
   "mimetype": "text/x-python",
   "name": "python",
   "nbconvert_exporter": "python",
   "pygments_lexer": "ipython3",
   "version": "3.8.3"
  }
 },
 "nbformat": 4,
 "nbformat_minor": 4
}
