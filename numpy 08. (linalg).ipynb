{
 "cells": [
  {
   "cell_type": "code",
   "execution_count": 2,
   "metadata": {},
   "outputs": [],
   "source": [
    "import numpy as np"
   ]
  },
  {
   "cell_type": "markdown",
   "metadata": {},
   "source": [
    "## np.linalg.inv\n",
    "* 역행렬을 구할 때 사용하고 모든 차원의 값이 같아야 한다.\n",
    "\n",
    "### 역행렬\n",
    "* 어떤 행렬과 곱해서 항등 행렬이 나오게 하는 행렬을 의미한다."
   ]
  },
  {
   "cell_type": "code",
   "execution_count": 3,
   "metadata": {},
   "outputs": [
    {
     "name": "stdout",
     "output_type": "stream",
     "text": [
      "[[[0.7828529  0.46037467 0.29414263]\n",
      "  [0.1200889  0.21562875 0.25600594]\n",
      "  [0.09801326 0.43776293 0.61375547]]\n",
      "\n",
      " [[0.46204336 0.81187219 0.56103162]\n",
      "  [0.9645753  0.69023481 0.82511084]\n",
      "  [0.88915333 0.30737038 0.54411481]]\n",
      "\n",
      " [[0.92082515 0.16936002 0.91349099]\n",
      "  [0.3960831  0.42656188 0.60819607]\n",
      "  [0.76791129 0.44571529 0.21572296]]]\n"
     ]
    },
    {
     "data": {
      "text/plain": [
       "array([[[ 1.00000000e+00, -7.51923312e-15,  2.25443273e-15],\n",
       "        [ 2.37043284e-17,  1.00000000e+00, -1.72797451e-15],\n",
       "        [ 4.43962802e-16,  5.65476587e-15,  1.00000000e+00]],\n",
       "\n",
       "       [[ 1.00000000e+00, -4.06194847e-16, -3.27135740e-16],\n",
       "        [-2.11721254e-16,  1.00000000e+00,  2.60753819e-16],\n",
       "        [-2.99523799e-18,  1.50175590e-16,  1.00000000e+00]],\n",
       "\n",
       "       [[ 1.00000000e+00,  9.21276376e-17,  6.45731742e-17],\n",
       "        [-8.53602134e-17,  1.00000000e+00, -7.80527835e-18],\n",
       "        [-1.36349476e-16,  2.94420440e-16,  1.00000000e+00]]])"
      ]
     },
     "execution_count": 3,
     "metadata": {},
     "output_type": "execute_result"
    }
   ],
   "source": [
    "x = np.random.rand(3, 3, 3)\n",
    "print(x)\n",
    "\n",
    "np.matmul(x, np.linalg.inv(x))\n",
    "x @ np.linalg.inv(x)"
   ]
  },
  {
   "cell_type": "markdown",
   "metadata": {},
   "source": [
    "## np.linalg.solve\n",
    "* Ax = B 형태의 선형대수식 솔루션을 제공한다.\n",
    "\n",
    "* 예제) 호랑이와 홍합의 합 : 25 호랑이 다리와 홍합 다리의 합은 64\n",
    "    > x + y = 25\n",
    "    \n",
    "    > 2x + 4y = 64\n",
    "    \n",
    "$$\\begin{pmatrix} 1 & 1 \\\\ 2 & 4 \\end{pmatrix}\\begin{pmatrix} x \\\\ y \\end{pmatrix}= \\begin{pmatrix} 25 \\\\ 64 \\end{pmatrix}$$\n",
    "\n",
    "### 행렬의 곱\n",
    "* @\n",
    "* np.matmul\n",
    "\n",
    "### 행렬의 비교\n",
    "* np.allclose"
   ]
  },
  {
   "cell_type": "code",
   "execution_count": 4,
   "metadata": {},
   "outputs": [
    {
     "name": "stdout",
     "output_type": "stream",
     "text": [
      "[18.  7.]\n"
     ]
    },
    {
     "data": {
      "text/plain": [
       "True"
      ]
     },
     "execution_count": 4,
     "metadata": {},
     "output_type": "execute_result"
    }
   ],
   "source": [
    "A = np.array([[1, 1], [2, 4]])\n",
    "B = np.array([25, 64])\n",
    "\n",
    "x = np.linalg.solve(A, B)\n",
    "print(x)\n",
    "\n",
    "np.allclose(A@x, B)"
   ]
  }
 ],
 "metadata": {
  "kernelspec": {
   "display_name": "Python 3",
   "language": "python",
   "name": "python3"
  },
  "language_info": {
   "codemirror_mode": {
    "name": "ipython",
    "version": 3
   },
   "file_extension": ".py",
   "mimetype": "text/x-python",
   "name": "python",
   "nbconvert_exporter": "python",
   "pygments_lexer": "ipython3",
   "version": "3.8.3"
  }
 },
 "nbformat": 4,
 "nbformat_minor": 4
}
