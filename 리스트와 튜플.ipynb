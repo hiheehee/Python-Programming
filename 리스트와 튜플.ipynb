{
 "cells": [
  {
   "cell_type": "markdown",
   "metadata": {},
   "source": [
    "# 리스트 list\n",
    "* 복수개의 값을 담을 수 있는 데이터 구조를 의미한다.\n",
    "* 리스트 요소로 숫자, 문자열, 리스트 자체 등 어떤 자료형도 포함시킬 수 있다.\n",
    "* 아무것도 포함되지 않은 [](빈 리스트)일 수도있다.\n",
    "* 생성 후에도 변경 가능하다.\n",
    "* []안에 값을 담아서 생성가능하다.\n",
    "* list()함수로 생성가능한다.\n",
    "* str.split()함수로 생성가능한다."
   ]
  },
  {
   "cell_type": "code",
   "execution_count": 3,
   "metadata": {},
   "outputs": [
    {
     "name": "stdout",
     "output_type": "stream",
     "text": [
      "<class 'list'>\n",
      "<class 'list'>\n",
      "<class 'list'>\n",
      "<class 'list'>\n"
     ]
    }
   ],
   "source": [
    "a = []\n",
    "b = [1,2, 'apple']\n",
    "c = 'Hello world'.split()\n",
    "d = (1,2,3)\n",
    "e = list(d)\n",
    "\n",
    "print(type(a))\n",
    "print(type(b))\n",
    "print(type(c))\n",
    "print(type(e))"
   ]
  },
  {
   "cell_type": "markdown",
   "metadata": {},
   "source": [
    "## 리스트 인덱싱\n",
    "* 문자열 인덱싱과 동일하게 동작한다.\n",
    "* 시작 인덱스는 0이다.\n",
    "* [i]는 i번째 원소를 반환한다.\n",
    "* 음수 인덱스도 가능하며 마지막 인덱스는 -1이다."
   ]
  },
  {
   "cell_type": "code",
   "execution_count": 4,
   "metadata": {},
   "outputs": [
    {
     "name": "stdout",
     "output_type": "stream",
     "text": [
      "1\n",
      "9\n"
     ]
    }
   ],
   "source": [
    "a = [1,2,3,4,5,6,7,8,9]\n",
    "print(a[0])\n",
    "print(a[-1])"
   ]
  },
  {
   "cell_type": "markdown",
   "metadata": {},
   "source": [
    "## 문자열 슬라이싱\n",
    "* 문자열 슬라이싱과 동일하게 동작한다.\n",
    "* 슬라이싱 결과 역시 list다.\n",
    "* [start:end:increment]로 구성되며 increment가 생략된 경우 기본 증가량은 1이다."
   ]
  },
  {
   "cell_type": "code",
   "execution_count": 5,
   "metadata": {},
   "outputs": [
    {
     "name": "stdout",
     "output_type": "stream",
     "text": [
      "[1, 2, 3, 4, 5, 6, 7, 8, 9]\n",
      "[1, 2]\n",
      "[3, 4, 5, 6, 7, 8, 9]\n",
      "[3, 4, 5]\n",
      "[1, 3, 5, 7, 9]\n"
     ]
    }
   ],
   "source": [
    "print(a[:])\n",
    "print(a[:2])\n",
    "print(a[2:])\n",
    "print(a[2:5])\n",
    "print(a[::2])"
   ]
  },
  {
   "cell_type": "markdown",
   "metadata": {},
   "source": [
    "## 리스트 멤버 함수\n",
    "* 생성된 리스트 객체에 동작하는 함수를 의미한다.\n",
    "    - append(원소)\n",
    "        + 리스트 끝에 원소를 추가한다.\n",
    "    - extend(다른 리스트)\n",
    "        + 리스트를 연장한다.\n",
    "        + +=로도 가능한다.\n",
    "    - insert(인덱스, 원소)\n",
    "        + 리스트의 원하는 위치에 원소를 추가한다.\n",
    "    - remove()\n",
    "        + 값으로 원소를 제거한다.\n",
    "        + 값이 리스트안에 없으면 에러가 발생한다.\n",
    "    - pop()\n",
    "        + 인덱스로 원소를 반환하고 제거한다.\n",
    "    - index()\n",
    "        + 원하는 값의 인덱스를 반환한다.\n",
    "    - in\n",
    "        + 값 in [리스트] 형태로 사용한다.\n",
    "        + 리스내에 해당 값이 존재하는지 확인하고 True나 False를 반환한다.\n",
    "    - sort()\n",
    "        + 리스트 자체를 내부적으로 정렬한다.\n",
    "        + 기본적으로 오름차순으로 정렬하고 reverse = True 옵션 사용시 내림차순으로 정렬한다.\n",
    "    - sorted()\n",
    "        + 리스트의 정렬된 복사본을 반환한다.\n",
    "        + 리스트 자자체는 내부적으로 정렬되지 않는다.\n",
    "        + 기본적으로 오름차순으로 정렬하고 reverse = True 옵션 사용시 내림차순으로 정렬한다."
   ]
  },
  {
   "cell_type": "code",
   "execution_count": 22,
   "metadata": {},
   "outputs": [
    {
     "name": "stdout",
     "output_type": "stream",
     "text": [
      "기본 a : [1, 2, 3, 4, 5, 6, 7, 8, 9]\n",
      "append 10 : [1, 2, 3, 4, 5, 6, 7, 8, 9, 10]\n",
      "extend b([11,21,31]) : [1, 2, 3, 4, 5, 6, 7, 8, 9, 10, 11, 21, 31]\n",
      "0인덱스에 100 insert : [100, 1, 2, 3, 4, 5, 6, 7, 8, 9, 10, 11, 21, 31]\n",
      "값 31 remove : [100, 1, 2, 3, 4, 5, 6, 7, 8, 9, 10, 11, 21]\n",
      "기본 pop : [100, 1, 2, 3, 4, 5, 6, 7, 8, 9, 10, 11]\n",
      "0인덱스 pop [1, 2, 3, 4, 5, 6, 7, 8, 9, 10, 11]\n",
      "값 5의 인덱스 : 4\n",
      "리스트 a에 7 존재? : True\n",
      "sorted정렬 :  [1, 2, 3, 4, 5, 6, 7, 8, 9, 10, 11]\n",
      "sorted(reverse = True) 정렬 : [11, 10, 9, 8, 7, 6, 5, 4, 3, 2, 1]\n",
      "sort정렬 : [1, 2, 3, 4, 5, 6, 7, 8, 9, 10, 11]\n",
      "sort(reverse = True) 정렬 : [11, 10, 9, 8, 7, 6, 5, 4, 3, 2, 1]\n"
     ]
    }
   ],
   "source": [
    "a = [1,2,3,4,5,6,7,8,9]\n",
    "b = [11,21,31]\n",
    "\n",
    "print('기본 a :',a)\n",
    "\n",
    "a.append(10)\n",
    "print('append 10 :',a)\n",
    "\n",
    "a.extend(b)\n",
    "print('extend b([11,21,31]) :',a)\n",
    "\n",
    "a.insert(0, 100)\n",
    "print('0인덱스에 100 insert :',a)\n",
    "\n",
    "a.remove(31)\n",
    "print('값 31 remove :',a)\n",
    "\n",
    "a.pop()\n",
    "print('기본 pop :',a)\n",
    "a.pop(0)\n",
    "print('0인덱스 pop',a)\n",
    "\n",
    "print('값 5의 인덱스 :',a.index(5))\n",
    "\n",
    "print('리스트 a에 7 존재? :',7 in a)\n",
    "\n",
    "c = sorted(a)\n",
    "print('sorted정렬 : ',c)\n",
    "d = sorted(a, reverse = True)\n",
    "print('sorted(reverse = True) 정렬 :', d)\n",
    "\n",
    "a.sort()\n",
    "print('sort정렬 :',a)\n",
    "a.sort(reverse = True)\n",
    "print('sort(reverse = True) 정렬 :',a)"
   ]
  },
  {
   "cell_type": "markdown",
   "metadata": {},
   "source": [
    "# 튜플 tuple\n",
    "* 리스트와 같이 복수개의 값을 갖는 컬렉션 타입을 의미한다.\n",
    "* 생성 후에 변경이 불가능하다.\n",
    "* 읽기 전용이라 속도가 빠르다.\n",
    "* 1개의 요소만 가질때 요소뒤에 ,를 붙여야 한다.\n",
    "* 요소 여러개를 나열하고 () 생략해도 무방하다."
   ]
  },
  {
   "cell_type": "code",
   "execution_count": 23,
   "metadata": {},
   "outputs": [],
   "source": [
    "a = ()\n",
    "b = (1,)\n",
    "c = (1,2,3)\n",
    "d = 1,2,3"
   ]
  },
  {
   "cell_type": "markdown",
   "metadata": {},
   "source": [
    "## 튜플 인덱싱"
   ]
  },
  {
   "cell_type": "code",
   "execution_count": 24,
   "metadata": {},
   "outputs": [
    {
     "name": "stdout",
     "output_type": "stream",
     "text": [
      "1\n"
     ]
    }
   ],
   "source": [
    "a = (1,2,3)\n",
    "print(a[0])"
   ]
  },
  {
   "cell_type": "markdown",
   "metadata": {},
   "source": [
    "## 튜플 슬라이싱"
   ]
  },
  {
   "cell_type": "code",
   "execution_count": 25,
   "metadata": {},
   "outputs": [
    {
     "name": "stdout",
     "output_type": "stream",
     "text": [
      "(1, 2, 3)\n"
     ]
    }
   ],
   "source": [
    "a = (1,2,3,4,5)\n",
    "print(a[:3])"
   ]
  },
  {
   "cell_type": "markdown",
   "metadata": {},
   "source": [
    "## 튜플 더하기\n",
    "* 기존 튜플을 수정하는 것은 불가능하지만 튜플을 가지고 새로운 튜플은 생성가능하다."
   ]
  },
  {
   "cell_type": "code",
   "execution_count": 26,
   "metadata": {},
   "outputs": [
    {
     "name": "stdout",
     "output_type": "stream",
     "text": [
      "(1, 2, 3, 11, 22, 33)\n"
     ]
    }
   ],
   "source": [
    "a = (1,2,3)\n",
    "b = (11,22,33)\n",
    "c = a + b\n",
    "print(c)"
   ]
  },
  {
   "cell_type": "markdown",
   "metadata": {},
   "source": [
    "## 튜플 반복하기"
   ]
  },
  {
   "cell_type": "code",
   "execution_count": 27,
   "metadata": {},
   "outputs": [
    {
     "data": {
      "text/plain": [
       "(1, 2, 3, 1, 2, 3, 1, 2, 3)"
      ]
     },
     "execution_count": 27,
     "metadata": {},
     "output_type": "execute_result"
    }
   ],
   "source": [
    "a = (1,2,3)\n",
    "a*3"
   ]
  },
  {
   "cell_type": "markdown",
   "metadata": {},
   "source": [
    "## 튜플 값 삭제 및 수정\n",
    "* 튜플은 읽기 전용이기 때문에 일반적으로 값의 삭제나 수정을 하면 오류가 발생한다.\n",
    "* 다만 값이 리스트인 경우 리스트 안에 값은 삭제나 수정을 수행할 수 있다."
   ]
  },
  {
   "cell_type": "code",
   "execution_count": 29,
   "metadata": {},
   "outputs": [
    {
     "name": "stdout",
     "output_type": "stream",
     "text": [
      "[4, 5, 6]\n",
      "(1, 2, 3, [400, 5, 6])\n"
     ]
    }
   ],
   "source": [
    "a = (1,2,3, [4,5,6])\n",
    "print(a[-1])\n",
    "\n",
    "a[-1][0] = 400\n",
    "print(a)"
   ]
  }
 ],
 "metadata": {
  "kernelspec": {
   "display_name": "Python 3",
   "language": "python",
   "name": "python3"
  },
  "language_info": {
   "codemirror_mode": {
    "name": "ipython",
    "version": 3
   },
   "file_extension": ".py",
   "mimetype": "text/x-python",
   "name": "python",
   "nbconvert_exporter": "python",
   "pygments_lexer": "ipython3",
   "version": "3.8.3"
  }
 },
 "nbformat": 4,
 "nbformat_minor": 4
}
