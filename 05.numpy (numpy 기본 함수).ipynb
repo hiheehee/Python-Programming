{
 "cells": [
  {
   "cell_type": "code",
   "execution_count": 1,
   "metadata": {},
   "outputs": [],
   "source": [
    "import numpy as np"
   ]
  },
  {
   "cell_type": "markdown",
   "metadata": {},
   "source": [
    "## [numpy documentation](https://www.numpy.org/devdocs/reference/)\n",
    "* numpy에서 제공되는 함수등에 대한 문서이다."
   ]
  },
  {
   "cell_type": "markdown",
   "metadata": {},
   "source": [
    "## 연산 함수\n",
    "* add \n",
    "* subtract\n",
    "* multiply\n",
    "* divide\n",
    "\n",
    "## 연산자\n",
    "* +\n",
    "* -\n",
    "* *\n",
    "* /"
   ]
  },
  {
   "cell_type": "code",
   "execution_count": 3,
   "metadata": {},
   "outputs": [
    {
     "data": {
      "text/plain": [
       "array([[-0.16214667,  0.13146362,  1.33800869,  2.74451135,  3.46192415],\n",
       "       [ 4.86085173,  5.51316031,  6.15966398,  7.39157929,  8.0400107 ],\n",
       "       [ 9.170276  , 10.96799978, 11.37232924, 12.35382413, 13.82087279],\n",
       "       [14.82362799, 15.74938862, 16.84166811, 17.57423499, 18.31835159]])"
      ]
     },
     "execution_count": 3,
     "metadata": {},
     "output_type": "execute_result"
    }
   ],
   "source": [
    "x = np.arange(20).reshape(4, 5)\n",
    "y = np.random.rand(20).reshape(4, 5)\n",
    "\n",
    "np.add(x,y)\n",
    "np.subtract(x,y)"
   ]
  },
  {
   "cell_type": "code",
   "execution_count": 4,
   "metadata": {},
   "outputs": [
    {
     "data": {
      "text/plain": [
       "array([[-0.16214667,  0.13146362,  1.33800869,  2.74451135,  3.46192415],\n",
       "       [ 4.86085173,  5.51316031,  6.15966398,  7.39157929,  8.0400107 ],\n",
       "       [ 9.170276  , 10.96799978, 11.37232924, 12.35382413, 13.82087279],\n",
       "       [14.82362799, 15.74938862, 16.84166811, 17.57423499, 18.31835159]])"
      ]
     },
     "execution_count": 4,
     "metadata": {},
     "output_type": "execute_result"
    }
   ],
   "source": [
    "x + y\n",
    "x - y"
   ]
  },
  {
   "cell_type": "markdown",
   "metadata": {},
   "source": [
    "## 통계 함수\n",
    "* 평균 mean\n",
    "* 분산 var\n",
    "* 표준편차 std\n",
    "* 중앙 median\n",
    "* 최댓값 max\n",
    "* 최솟값 min\n",
    "* 최댓값의 인덱스 argmax\n",
    "* 최솟값의 인덱스 argmin"
   ]
  },
  {
   "cell_type": "code",
   "execution_count": 6,
   "metadata": {},
   "outputs": [
    {
     "name": "stdout",
     "output_type": "stream",
     "text": [
      "9.5\n",
      "5.766281297335398\n"
     ]
    }
   ],
   "source": [
    "x = np.arange(20).reshape(4, 5)\n",
    "\n",
    "print(np.mean(x))\n",
    "print(np.std(x))"
   ]
  },
  {
   "cell_type": "markdown",
   "metadata": {},
   "source": [
    "## 집계 함수\n",
    "* 전체 합 sum\n",
    "    * axix = None 전체 원소의 합\n",
    "    * axix = 0 행 방향 즉 각 열들의 합\n",
    "    * axix = 1 열 방향 (->) 즉 각 행들의 합\n",
    "* 누적 합 cumsum\n",
    "* 누적 곱 cumprod"
   ]
  },
  {
   "cell_type": "code",
   "execution_count": 10,
   "metadata": {},
   "outputs": [
    {
     "name": "stdout",
     "output_type": "stream",
     "text": [
      "[[ 0  1  2  3  4]\n",
      " [ 5  6  7  8  9]\n",
      " [10 11 12 13 14]\n",
      " [15 16 17 18 19]]\n",
      "190\n",
      "[30 34 38 42 46]\n",
      "[10 35 60 85]\n"
     ]
    }
   ],
   "source": [
    "x = np.arange(20).reshape(4, 5)\n",
    "print(x)\n",
    "\n",
    "print(np.sum(x, axis = None))\n",
    "print(np.sum(x, axis = 0))\n",
    "print(np.sum(x, axis = 1))"
   ]
  },
  {
   "cell_type": "code",
   "execution_count": 11,
   "metadata": {},
   "outputs": [
    {
     "data": {
      "text/plain": [
       "array([  0,   1,   3,   6,  10,  15,  21,  28,  36,  45,  55,  66,  78,\n",
       "        91, 105, 120, 136, 153, 171, 190], dtype=int32)"
      ]
     },
     "execution_count": 11,
     "metadata": {},
     "output_type": "execute_result"
    }
   ],
   "source": [
    "np.cumsum(x)"
   ]
  },
  {
   "cell_type": "code",
   "execution_count": 12,
   "metadata": {},
   "outputs": [
    {
     "data": {
      "text/plain": [
       "array([0, 0, 0, 0, 0, 0, 0, 0, 0, 0, 0, 0, 0, 0, 0, 0, 0, 0, 0, 0],\n",
       "      dtype=int32)"
      ]
     },
     "execution_count": 12,
     "metadata": {},
     "output_type": "execute_result"
    }
   ],
   "source": [
    "np.cumprod(x)"
   ]
  },
  {
   "cell_type": "markdown",
   "metadata": {},
   "source": [
    "## any\n",
    "* 특정 조건을 만족하는 것이 하나라도 있으면 True, 아니면 False를 반환한다.\n",
    "\n",
    "## all\n",
    "* 모든 원소가 특정 조건을 만족한다면 True, 아니면 False를 반환한다."
   ]
  },
  {
   "cell_type": "code",
   "execution_count": 16,
   "metadata": {},
   "outputs": [
    {
     "data": {
      "text/plain": [
       "array([ 0.36233447, -0.46658976, -0.88070287,  0.47069279,  0.22390114,\n",
       "       -0.75032388,  0.66965759,  0.86392872,  1.32079518, -0.84358512])"
      ]
     },
     "execution_count": 16,
     "metadata": {},
     "output_type": "execute_result"
    }
   ],
   "source": [
    "x = np.random.randn(10)\n",
    "x"
   ]
  },
  {
   "cell_type": "code",
   "execution_count": 18,
   "metadata": {},
   "outputs": [
    {
     "data": {
      "text/plain": [
       "True"
      ]
     },
     "execution_count": 18,
     "metadata": {},
     "output_type": "execute_result"
    }
   ],
   "source": [
    "np.any(x > 0)"
   ]
  },
  {
   "cell_type": "code",
   "execution_count": 19,
   "metadata": {},
   "outputs": [
    {
     "data": {
      "text/plain": [
       "True"
      ]
     },
     "execution_count": 19,
     "metadata": {},
     "output_type": "execute_result"
    }
   ],
   "source": [
    "np.all(x != 0)"
   ]
  },
  {
   "cell_type": "markdown",
   "metadata": {},
   "source": [
    "## where 함수\n",
    "* 조건에 따라 선별적으로 값을 선택 가능하다."
   ]
  },
  {
   "cell_type": "code",
   "execution_count": 20,
   "metadata": {},
   "outputs": [
    {
     "data": {
      "text/plain": [
       "array([-1.0384254 ,  1.79095825, -0.69105501, -2.2494937 ,  0.61654969,\n",
       "       -0.11971819, -1.26748967, -0.30693002,  0.73807588,  1.80594321])"
      ]
     },
     "execution_count": 20,
     "metadata": {},
     "output_type": "execute_result"
    }
   ],
   "source": [
    "x = np.random.randn(10)\n",
    "x"
   ]
  },
  {
   "cell_type": "code",
   "execution_count": 22,
   "metadata": {},
   "outputs": [
    {
     "data": {
      "text/plain": [
       "array([-1.        ,  1.79095825, -1.        , -1.        ,  0.61654969,\n",
       "       -1.        , -1.        , -1.        ,  0.73807588,  1.80594321])"
      ]
     },
     "execution_count": 22,
     "metadata": {},
     "output_type": "execute_result"
    }
   ],
   "source": [
    "np.where(x > 0, x, -1)"
   ]
  },
  {
   "cell_type": "markdown",
   "metadata": {},
   "source": [
    "## axis\n",
    "* 몇몇 함수에는 axis keyword 파라미터가 존재한다.\n",
    "* axix = None 즉 값이 없는 경우에는 전체 원소에 대해 적용한다.\n",
    "* axix = 값인 경우 해당 axis에 따라선 연산을 적용한다. 이때 결과는 해당 axis가 제외된 나머지 차원의 데이터만 남게된다.\n",
    "* axis의 값이 튜플일 경우 해당 튜플에 명시된 모든 axis에 대해서 연산을 적용한다."
   ]
  },
  {
   "cell_type": "code",
   "execution_count": 25,
   "metadata": {},
   "outputs": [
    {
     "name": "stdout",
     "output_type": "stream",
     "text": [
      "[[ 0  1  2  3  4]\n",
      " [ 5  6  7  8  9]\n",
      " [10 11 12 13 14]]\n",
      "[15 18 21 24 27]\n",
      "[10 35 60]\n"
     ]
    }
   ],
   "source": [
    "x = np.arange(15).reshape(3,5)\n",
    "print(x)\n",
    "\n",
    "print(np.sum(x, axis=0))\n",
    "print(np.sum(x, axis=1))"
   ]
  },
  {
   "cell_type": "code",
   "execution_count": 26,
   "metadata": {},
   "outputs": [
    {
     "name": "stdout",
     "output_type": "stream",
     "text": [
      "[[[ 0  1  2]\n",
      "  [ 3  4  5]\n",
      "  [ 6  7  8]\n",
      "  [ 9 10 11]]\n",
      "\n",
      " [[12 13 14]\n",
      "  [15 16 17]\n",
      "  [18 19 20]\n",
      "  [21 22 23]]\n",
      "\n",
      " [[24 25 26]\n",
      "  [27 28 29]\n",
      "  [30 31 32]\n",
      "  [33 34 35]]]\n"
     ]
    }
   ],
   "source": [
    "z = np.arange(36).reshape(3, 4, 3)\n",
    "print(z)"
   ]
  },
  {
   "cell_type": "code",
   "execution_count": 27,
   "metadata": {},
   "outputs": [
    {
     "name": "stdout",
     "output_type": "stream",
     "text": [
      "[[36 39 42]\n",
      " [45 48 51]\n",
      " [54 57 60]\n",
      " [63 66 69]]\n"
     ]
    }
   ],
   "source": [
    "print(np.sum(z, axis=0))"
   ]
  },
  {
   "cell_type": "code",
   "execution_count": 28,
   "metadata": {},
   "outputs": [
    {
     "name": "stdout",
     "output_type": "stream",
     "text": [
      "[[ 18  22  26]\n",
      " [ 66  70  74]\n",
      " [114 118 122]]\n"
     ]
    }
   ],
   "source": [
    "print(np.sum(z, axis=1))"
   ]
  },
  {
   "cell_type": "code",
   "execution_count": 29,
   "metadata": {},
   "outputs": [
    {
     "name": "stdout",
     "output_type": "stream",
     "text": [
      "[[  3  12  21  30]\n",
      " [ 39  48  57  66]\n",
      " [ 75  84  93 102]]\n"
     ]
    }
   ],
   "source": [
    "print(np.sum(z, axis=2))"
   ]
  },
  {
   "cell_type": "code",
   "execution_count": 31,
   "metadata": {},
   "outputs": [
    {
     "name": "stdout",
     "output_type": "stream",
     "text": [
      "[[ 18  22  26]\n",
      " [ 66  70  74]\n",
      " [114 118 122]]\n"
     ]
    }
   ],
   "source": [
    "print(np.sum(z, axis=-2))"
   ]
  },
  {
   "cell_type": "code",
   "execution_count": 32,
   "metadata": {},
   "outputs": [
    {
     "data": {
      "text/plain": [
       "array([117, 144, 171, 198])"
      ]
     },
     "execution_count": 32,
     "metadata": {},
     "output_type": "execute_result"
    }
   ],
   "source": [
    "np.sum(z, axis=(0, 2))"
   ]
  }
 ],
 "metadata": {
  "kernelspec": {
   "display_name": "Python 3",
   "language": "python",
   "name": "python3"
  },
  "language_info": {
   "codemirror_mode": {
    "name": "ipython",
    "version": 3
   },
   "file_extension": ".py",
   "mimetype": "text/x-python",
   "name": "python",
   "nbconvert_exporter": "python",
   "pygments_lexer": "ipython3",
   "version": "3.8.3"
  }
 },
 "nbformat": 4,
 "nbformat_minor": 4
}
